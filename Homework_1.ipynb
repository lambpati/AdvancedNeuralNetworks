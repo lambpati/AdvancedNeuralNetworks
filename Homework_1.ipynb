{
 "cells": [
  {
   "cell_type": "markdown",
   "metadata": {
    "id": "z5WdryXVS4ty"
   },
   "source": [
    "# Applied Neural Networks Homework 1\n",
    "Leslie Kerby"
   ]
  },
  {
   "cell_type": "markdown",
   "metadata": {
    "id": "DHlAQJ1AS-VJ"
   },
   "source": [
    "# **MNIST Digits and Keras**</br>\n",
    "Import in the MNIST digits dataset (70,000 images, each 28x28 pixels). Preprocess the data as necessary. The training set should have 60k images and the test set 10k. Also create a validation set within the training set -- using 10% of the training data. \n",
    "\n",
    "**Part 1** </br>\n",
    "Using the Keras Sequential API, create a neural network with two hidden layers of 500 neurons each. Train it for 30 epochs. Graph the accuracy and loss for the training and validation sets. Does your model become overfit? If so, at about what epoch? Re-train your neural network for that number of epochs. \n",
    "\n",
    "Now test your neural network on your testing data. What accuracy do you achieve? Is it about the same as the accuracy on the validation data?\n",
    "\n",
    "Plot several of the misclassified images from your model. \n",
    "\n",
    "**Part 2** </br>\n",
    "Try to improve your model by changing your architecture (try different numbers of neurons per layer, and/or more layers) and report again on accuracies and plot several misclassified images.\n",
    "\n",
    "**Part 3** </br>\n",
    "Which model did best? Discuss."
   ]
  },
  {
   "cell_type": "code",
   "execution_count": null,
   "metadata": {
    "id": "aMMDsGreT745"
   },
   "outputs": [],
   "source": [
    "# Change runtime to GPU!\n",
    "\n",
    "import tensorflow as tf\n",
    "from tensorflow import keras\n",
    "\n",
    "import numpy as np"
   ]
  },
  {
   "cell_type": "code",
   "execution_count": null,
   "metadata": {
    "id": "5_-S9vKgXQZo"
   },
   "outputs": [],
   "source": []
  },
  {
   "cell_type": "code",
   "execution_count": null,
   "metadata": {
    "id": "0AUNQe9fXQcq"
   },
   "outputs": [],
   "source": []
  },
  {
   "cell_type": "code",
   "execution_count": null,
   "metadata": {
    "id": "rzl4GW7VXQf0"
   },
   "outputs": [],
   "source": []
  }
 ],
 "metadata": {
  "accelerator": "GPU",
  "colab": {
   "name": "Homework_1.ipynb",
   "provenance": []
  },
  "kernelspec": {
   "display_name": "Python 3 (ipykernel)",
   "language": "python",
   "name": "python3"
  },
  "language_info": {
   "codemirror_mode": {
    "name": "ipython",
    "version": 3
   },
   "file_extension": ".py",
   "mimetype": "text/x-python",
   "name": "python",
   "nbconvert_exporter": "python",
   "pygments_lexer": "ipython3",
   "version": "3.10.1"
  }
 },
 "nbformat": 4,
 "nbformat_minor": 1
}
